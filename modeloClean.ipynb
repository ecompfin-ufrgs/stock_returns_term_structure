{
 "cells": [
  {
   "cell_type": "code",
   "execution_count": 15,
   "id": "250b12c1-3e7e-43bc-87cc-914408d9e3fc",
   "metadata": {},
   "outputs": [],
   "source": [
    "import yfinance as yf\n",
    "import pandas as pd\n",
    "import numpy as np\n",
    "from arch.univariate import ARCHInMean, GARCH\n",
    "import matplotlib.pyplot as plt\n",
    "import statsmodels.api as sm\n",
    "from statsmodels.tsa.stattools import adfuller\n",
    "from sklearn.metrics import mean_squared_error, root_mean_squared_error"
   ]
  },
  {
   "cell_type": "code",
   "execution_count": 17,
   "id": "a9858caf-c686-4d5c-b146-b82ff0f17af2",
   "metadata": {},
   "outputs": [],
   "source": [
    "start_date = '2019-10-01'\n",
    "end_date = '2024-10-03'"
   ]
  },
  {
   "cell_type": "code",
   "execution_count": 19,
   "id": "9ea149a8-9fb0-4e29-82ee-29a543a86f5c",
   "metadata": {},
   "outputs": [
    {
     "name": "stderr",
     "output_type": "stream",
     "text": [
      "[*********************100%***********************]  1 of 1 completed\n"
     ]
    }
   ],
   "source": [
    "market = yf.download('^BVSP', start=start_date, end=end_date)['Adj Close'].pct_change().dropna()"
   ]
  },
  {
   "cell_type": "code",
   "execution_count": 21,
   "id": "5e245938-6065-422f-af8a-41e97ac44217",
   "metadata": {},
   "outputs": [
    {
     "data": {
      "text/plain": [
       "1245"
      ]
     },
     "execution_count": 21,
     "metadata": {},
     "output_type": "execute_result"
    }
   ],
   "source": [
    "len(market)"
   ]
  },
  {
   "cell_type": "code",
   "execution_count": 23,
   "id": "8660fd2f-9bd1-4278-8a84-a8847b2f43dd",
   "metadata": {},
   "outputs": [
    {
     "name": "stdout",
     "output_type": "stream",
     "text": [
      "Date\n",
      "2019-10-02   -0.029043\n",
      "2019-10-03    0.004801\n",
      "2019-10-04    0.010195\n",
      "2019-10-07   -0.019288\n",
      "2019-10-08   -0.005886\n",
      "                ...   \n",
      "2024-09-26    0.010822\n",
      "2024-09-27   -0.002105\n",
      "2024-09-30   -0.006886\n",
      "2024-10-01    0.005151\n",
      "2024-10-02    0.007698\n",
      "Name: Adj Close, Length: 1245, dtype: float64\n"
     ]
    }
   ],
   "source": [
    "print(market)"
   ]
  },
  {
   "cell_type": "code",
   "execution_count": 25,
   "id": "30b136a3-99a5-4949-995a-d115759d75f0",
   "metadata": {},
   "outputs": [],
   "source": [
    "cdi_data = pd.read_csv('CDI.csv',sep=';', parse_dates=['Date'],dayfirst=True)\n",
    "cdi_data.set_index('Date', inplace=True)\n",
    "cdi_data.index = pd.to_datetime(cdi_data.index, dayfirst=True)"
   ]
  },
  {
   "cell_type": "code",
   "execution_count": 27,
   "id": "27964653-3c7e-49dc-ab96-12b932ea358d",
   "metadata": {},
   "outputs": [],
   "source": [
    "cdi_data['CDI_Return'] = cdi_data['return'].str.replace(',', '.').astype(float)\n",
    "cdi_data.drop(columns=['return'], inplace=True)"
   ]
  },
  {
   "cell_type": "code",
   "execution_count": 29,
   "id": "6943da42-3b41-413a-af41-f7c7fa103651",
   "metadata": {},
   "outputs": [
    {
     "name": "stdout",
     "output_type": "stream",
     "text": [
      "            CDI_Return\n",
      "Date                  \n",
      "2019-10-02    0.000209\n",
      "2019-10-03    0.000209\n",
      "2019-10-04    0.000209\n",
      "2019-10-07    0.000209\n",
      "2019-10-08    0.000209\n",
      "...                ...\n",
      "2024-09-26    0.000402\n",
      "2024-09-27    0.000402\n",
      "2024-09-30    0.000402\n",
      "2024-10-01    0.000402\n",
      "2024-10-02    0.000402\n",
      "\n",
      "[1257 rows x 1 columns]\n"
     ]
    }
   ],
   "source": [
    "print(cdi_data)"
   ]
  },
  {
   "cell_type": "code",
   "execution_count": 31,
   "id": "4ac5dd24-8eb6-45dd-953c-95407bfcbdd1",
   "metadata": {},
   "outputs": [],
   "source": [
    "cdi_data = cdi_data.loc[market.index]"
   ]
  },
  {
   "cell_type": "code",
   "execution_count": 33,
   "id": "a9d6d624-ee43-4155-aff2-57ad7ff25549",
   "metadata": {},
   "outputs": [
    {
     "data": {
      "text/plain": [
       "1245"
      ]
     },
     "execution_count": 33,
     "metadata": {},
     "output_type": "execute_result"
    }
   ],
   "source": [
    "len(cdi_data)"
   ]
  },
  {
   "cell_type": "code",
   "execution_count": 35,
   "id": "7aab2f65-0e3c-4d13-b4c0-e147fbd934fc",
   "metadata": {},
   "outputs": [],
   "source": [
    "market_excess=(market-cdi_data['CDI_Return'])*100"
   ]
  },
  {
   "cell_type": "code",
   "execution_count": 37,
   "id": "711bf98e-1254-485e-83c1-8d00a8a87971",
   "metadata": {},
   "outputs": [
    {
     "name": "stdout",
     "output_type": "stream",
     "text": [
      "Date\n",
      "2019-10-02   -2.925161\n",
      "2019-10-03    0.459179\n",
      "2019-10-04    0.998672\n",
      "2019-10-07   -1.949668\n",
      "2019-10-08   -0.609499\n",
      "                ...   \n",
      "2024-09-26    1.042014\n",
      "2024-09-27   -0.250678\n",
      "2024-09-30   -0.728784\n",
      "2024-10-01    0.474944\n",
      "2024-10-02    0.729672\n",
      "Length: 1245, dtype: float64\n"
     ]
    }
   ],
   "source": [
    "print(market_excess)"
   ]
  },
  {
   "cell_type": "code",
   "execution_count": 39,
   "id": "776a8bac-7174-4185-964d-e845a04e0068",
   "metadata": {},
   "outputs": [],
   "source": [
    "tickers=['VALE3.SA', 'PETR4.SA', 'ITUB4.SA', 'PETR3.SA', 'BBDC4.SA', \n",
    "'BBAS3.SA', \n",
    "'ELET3.SA', \n",
    "'B3SA3.SA', \n",
    "'WEGE3.SA', \n",
    "'SBSP3.SA', \n",
    "'ITSA4.SA', \n",
    "'ABEV3.SA', \n",
    "'BPAC11.SA', \n",
    "'EQTL3.SA', \n",
    "'RENT3.SA', \n",
    "'JBSS3.SA', \n",
    "'PRIO3.SA',  \n",
    "'RADL3.SA', \n",
    "'SUZB3.SA', \n",
    "'EMBR3.SA', \n",
    "'RAIL3.SA', \n",
    "'VBBR3.SA', \n",
    "'UGPA3.SA', \n",
    "'BBSE3.SA', \n",
    "'GGBR4.SA', \n",
    "'CMIG4.SA', \n",
    "'BRFS3.SA', \n",
    "'VIVT3.SA', \n",
    "'BBDC3.SA', \n",
    "'ENEV3.SA', \n",
    "'HAPV3.SA', \n",
    "'CPLE6.SA', \n",
    "'KLBN11.SA', \n",
    "'LREN3.SA', \n",
    "'TOTS3.SA', \n",
    "'CSAN3.SA', \n",
    "'ENGI11.SA', \n",
    "'TIMS3.SA', \n",
    "'CCRO3.SA', \n",
    "'ELET6.SA',  \n",
    "'HYPE3.SA', \n",
    "'EGIE3.SA', \n",
    "'SANB11.SA', \n",
    "'STBP3.SA', \n",
    "'TRPL4.SA', \n",
    "'CSNA3.SA',\n",
    "'MULT3.SA', \n",
    "'TAEE11.SA', \n",
    "'FLRY3.SA', \n",
    "'GOAU4.SA', \n",
    "'CPFE3.SA', \n",
    "'AZZA3.SA', \n",
    "'CYRE3.SA',  \n",
    "'BRAP4.SA', \n",
    "'BRKM5.SA', \n",
    "'CRFB3.SA',  \n",
    "'MRFG3.SA', \n",
    "'MGLU3.SA', \n",
    "'IRBR3.SA', \n",
    "'SMTO3.SA',  \n",
    "'SLCE3.SA', \n",
    "'USIM5.SA', \n",
    "'YDUQ3.SA', \n",
    "'MRVE3.SA', \n",
    "'COGN3.SA', \n",
    "'BEEF3.SA', \n",
    "'AZUL4.SA', \n",
    "'EZTC3.SA', \n",
    "'ALPA4.SA', \n",
    "'PCAR3.SA', \n",
    "'CVCB3.SA']\n"
   ]
  },
  {
   "cell_type": "code",
   "execution_count": 41,
   "id": "d9d59e1b-f762-4dfa-9349-0acadb17ffd1",
   "metadata": {},
   "outputs": [
    {
     "data": {
      "text/plain": [
       "71"
      ]
     },
     "execution_count": 41,
     "metadata": {},
     "output_type": "execute_result"
    }
   ],
   "source": [
    "len(tickers)"
   ]
  },
  {
   "cell_type": "code",
   "execution_count": 43,
   "id": "583e6dfc-a42e-4042-902f-f2f0a404b0b9",
   "metadata": {},
   "outputs": [],
   "source": [
    "stock_excess=[]"
   ]
  },
  {
   "cell_type": "code",
   "execution_count": 45,
   "id": "46c7c4a6-001e-4950-b29c-1e0a5e20e23a",
   "metadata": {
    "scrolled": true
   },
   "outputs": [
    {
     "name": "stderr",
     "output_type": "stream",
     "text": [
      "[*********************100%***********************]  1 of 1 completed\n",
      "[*********************100%***********************]  1 of 1 completed\n",
      "[*********************100%***********************]  1 of 1 completed\n",
      "[*********************100%***********************]  1 of 1 completed\n",
      "[*********************100%***********************]  1 of 1 completed\n",
      "[*********************100%***********************]  1 of 1 completed\n",
      "[*********************100%***********************]  1 of 1 completed\n",
      "[*********************100%***********************]  1 of 1 completed\n",
      "[*********************100%***********************]  1 of 1 completed\n",
      "[*********************100%***********************]  1 of 1 completed\n",
      "[*********************100%***********************]  1 of 1 completed\n",
      "[*********************100%***********************]  1 of 1 completed\n",
      "[*********************100%***********************]  1 of 1 completed\n",
      "[*********************100%***********************]  1 of 1 completed\n",
      "[*********************100%***********************]  1 of 1 completed\n",
      "[*********************100%***********************]  1 of 1 completed\n",
      "[*********************100%***********************]  1 of 1 completed\n",
      "[*********************100%***********************]  1 of 1 completed\n",
      "[*********************100%***********************]  1 of 1 completed\n",
      "[*********************100%***********************]  1 of 1 completed\n",
      "[*********************100%***********************]  1 of 1 completed\n",
      "[*********************100%***********************]  1 of 1 completed\n",
      "[*********************100%***********************]  1 of 1 completed\n",
      "[*********************100%***********************]  1 of 1 completed\n",
      "[*********************100%***********************]  1 of 1 completed\n",
      "[*********************100%***********************]  1 of 1 completed\n",
      "[*********************100%***********************]  1 of 1 completed\n",
      "[*********************100%***********************]  1 of 1 completed\n",
      "[*********************100%***********************]  1 of 1 completed\n",
      "[*********************100%***********************]  1 of 1 completed\n",
      "[*********************100%***********************]  1 of 1 completed\n",
      "[*********************100%***********************]  1 of 1 completed\n",
      "[*********************100%***********************]  1 of 1 completed\n",
      "[*********************100%***********************]  1 of 1 completed\n",
      "[*********************100%***********************]  1 of 1 completed\n",
      "[*********************100%***********************]  1 of 1 completed\n",
      "[*********************100%***********************]  1 of 1 completed\n",
      "[*********************100%***********************]  1 of 1 completed\n",
      "[*********************100%***********************]  1 of 1 completed\n",
      "[*********************100%***********************]  1 of 1 completed\n",
      "[*********************100%***********************]  1 of 1 completed\n",
      "[*********************100%***********************]  1 of 1 completed\n",
      "[*********************100%***********************]  1 of 1 completed\n",
      "[*********************100%***********************]  1 of 1 completed\n",
      "[*********************100%***********************]  1 of 1 completed\n",
      "[*********************100%***********************]  1 of 1 completed\n",
      "[*********************100%***********************]  1 of 1 completed\n",
      "[*********************100%***********************]  1 of 1 completed\n",
      "[*********************100%***********************]  1 of 1 completed\n",
      "[*********************100%***********************]  1 of 1 completed\n",
      "[*********************100%***********************]  1 of 1 completed\n",
      "[*********************100%***********************]  1 of 1 completed\n",
      "[*********************100%***********************]  1 of 1 completed\n",
      "[*********************100%***********************]  1 of 1 completed\n",
      "[*********************100%***********************]  1 of 1 completed\n",
      "[*********************100%***********************]  1 of 1 completed\n",
      "[*********************100%***********************]  1 of 1 completed\n",
      "[*********************100%***********************]  1 of 1 completed\n",
      "[*********************100%***********************]  1 of 1 completed\n",
      "[*********************100%***********************]  1 of 1 completed\n",
      "[*********************100%***********************]  1 of 1 completed\n",
      "[*********************100%***********************]  1 of 1 completed\n",
      "[*********************100%***********************]  1 of 1 completed\n",
      "[*********************100%***********************]  1 of 1 completed\n",
      "[*********************100%***********************]  1 of 1 completed\n",
      "[*********************100%***********************]  1 of 1 completed\n",
      "[*********************100%***********************]  1 of 1 completed\n",
      "[*********************100%***********************]  1 of 1 completed\n",
      "[*********************100%***********************]  1 of 1 completed\n",
      "[*********************100%***********************]  1 of 1 completed\n",
      "[*********************100%***********************]  1 of 1 completed\n"
     ]
    }
   ],
   "source": [
    "for ticker in tickers:\n",
    "    stock=yf.download(ticker, start=start_date, end=end_date)['Adj Close'].pct_change().dropna()\n",
    "    \n",
    "    data= pd.DataFrame({\n",
    "        'Ticker': ticker,\n",
    "        'Stock_Return': stock,\n",
    "        'CDI_Return': cdi_data['CDI_Return']\n",
    "    }).dropna()\n",
    "\n",
    "    data['Stock_Excess'] = ((data['Stock_Return'] - data['CDI_Return']))*100\n",
    "\n",
    "    stock_excess.append(data)\n",
    "    "
   ]
  },
  {
   "cell_type": "code",
   "execution_count": 46,
   "id": "775292d1-e0fd-48ed-9c5b-7391176f8796",
   "metadata": {},
   "outputs": [],
   "source": [
    "stock_excess = pd.concat(stock_excess)\n",
    "stock_excess= stock_excess[['Ticker', 'Stock_Excess']]"
   ]
  },
  {
   "cell_type": "code",
   "execution_count": 47,
   "id": "43ba35c9-68fb-42e7-b6f4-e542e08109f2",
   "metadata": {},
   "outputs": [
    {
     "name": "stdout",
     "output_type": "stream",
     "text": [
      "              Ticker  Stock_Excess\n",
      "Date                              \n",
      "2019-10-02  VALE3.SA     -5.491419\n",
      "2019-10-03  VALE3.SA      0.733008\n",
      "2019-10-04  VALE3.SA      2.509950\n",
      "2019-10-07  VALE3.SA     -1.201391\n",
      "2019-10-08  VALE3.SA     -1.584741\n",
      "...              ...           ...\n",
      "2024-09-26  CVCB3.SA      1.046787\n",
      "2024-09-27  CVCB3.SA      2.110368\n",
      "2024-09-30  CVCB3.SA     -2.145429\n",
      "2024-10-01  CVCB3.SA     -0.577802\n",
      "2024-10-02  CVCB3.SA      1.040912\n",
      "\n",
      "[88395 rows x 2 columns]\n"
     ]
    }
   ],
   "source": [
    "print(stock_excess)"
   ]
  },
  {
   "cell_type": "code",
   "execution_count": 48,
   "id": "3e32b812-3cd5-4c51-86af-e21c9645551d",
   "metadata": {},
   "outputs": [],
   "source": [
    "fitted_capm_values = []\n",
    "fitted_garchm_values = []"
   ]
  },
  {
   "cell_type": "code",
   "execution_count": 49,
   "id": "67ab053a-c2be-43d0-a3d5-6404f1e9e607",
   "metadata": {
    "scrolled": true
   },
   "outputs": [],
   "source": [
    "for ticker in stock_excess['Ticker'].unique():\n",
    "    ticker_data = stock_excess[stock_excess['Ticker'] == ticker]['Stock_Excess']\n",
    "\n",
    "    \n",
    "    # Ajusta o modelo CAPM Clássico\n",
    "    X_capm = sm.add_constant(market_excess.rename('Market_Excess'))\n",
    "    model_capm = sm.OLS(ticker_data, X_capm).fit()\n",
    "    fitted_capm = model_capm.predict(X_capm)\n",
    "\n",
    "    \n",
    "    #RMSE CAPM\n",
    "    rmse_capm = root_mean_squared_error(ticker_data, fitted_capm)\n",
    "\n",
    "    # Juntar resultados do CAPM\n",
    "    fitted_capm_values.append({\n",
    "        'Ticker':ticker,\n",
    "        'Alpha':model_capm.params.get('const', 0),\n",
    "        'Beta':model_capm.params.get('Market_Excess', 0),\n",
    "        'RMSE_CAPM':rmse_capm\n",
    "    })\n",
    "\n",
    "    #rodar GARCH-M\n",
    "    model_garchm=ARCHInMean(y=ticker_data, x=market_excess.rename('Market_Excess'), lags=0, constant=True,\n",
    "                             volatility=GARCH(p=1, o=0, q=1),\n",
    "                             distribution=None,\n",
    "                             form='vol')\n",
    "    \n",
    "    res_garchm = model_garchm.fit(disp='off')\n",
    "\n",
    "    # Extrai a volatilidade condicional do modelo GARCH-in-Mean\n",
    "    conditional_volatility = res_garchm.conditional_volatility\n",
    "\n",
    "#Cálculo do RMSE do GARCH-M\n",
    "    fitted_garchm = (\n",
    "        res_garchm.params.get('Const', 0) +\n",
    "        res_garchm.params.get('Market_Excess', 0) * market_excess +\n",
    "        res_garchm.params.get('kappa', 0) * conditional_volatility\n",
    "    )\n",
    "    \n",
    "    rmse_garchm = root_mean_squared_error(ticker_data, fitted_garchm)\n",
    "\n",
    "    \n",
    "    # juntar os parâmetros do GARCH-M\n",
    "    fitted_garchm_values.append({\n",
    "        'Ticker':ticker,\n",
    "        'Alpha':res_garchm.params.get('Const', 0),\n",
    "        'Beta':res_garchm.params.get('Market_Excess', 0),\n",
    "        'Kappa':res_garchm.params.get('kappa',0),\n",
    "        'Omega':res_garchm.params.get('omega',0),\n",
    "        'alpha1':res_garchm.params.get('alpha[1]',0),\n",
    "        'beta1':res_garchm.params.get('beta[1]',0),\n",
    "        'RMSE_GARCHM':rmse_garchm\n",
    "    })\n",
    "    #Cria um dataframe para os gráficos\n",
    "    df_plot = pd.DataFrame({\n",
    "            'Actual': ticker_data,\n",
    "            'CAPM': fitted_capm,\n",
    "            'GARCH-M': fitted_garchm\n",
    "        }).dropna()\n",
    "    \n",
    "    # Plota os gráficos comparativos entre CAPM clássico, GARCH-M e resultado verdadeiro\n",
    "    plt.figure(figsize=(12, 6))\n",
    "    plt.plot(df_plot.index, df_plot['Actual'], label='Actual', alpha=0.7)\n",
    "    plt.plot(df_plot.index, df_plot['CAPM'], label='CAPM', alpha=0.7)\n",
    "    plt.plot(df_plot.index, df_plot['GARCH-M'], label='GARCH-M', alpha=0.7)\n",
    "    plt.title(f'Actual vs. Fitted Returns for {ticker}')\n",
    "    plt.xlabel('Date')\n",
    "    plt.ylabel('Excess Return(%)')\n",
    "    plt.legend()\n",
    "    plt.tight_layout()\n",
    "    plt.show\n",
    "    plt.close()\n",
    "\n",
    "    # Optional: Plot cumulative returns\n",
    "    df_cum_returns = (1 + df_plot/100).cumprod() - 1\n",
    "    plt.figure(figsize=(12, 6))\n",
    "    plt.plot(df_cum_returns.index, df_cum_returns['Actual'], label='Actual', alpha=0.7)\n",
    "    plt.plot(df_cum_returns.index, df_cum_returns['CAPM'], label='CAPM', alpha=0.7)\n",
    "    plt.plot(df_cum_returns.index, df_cum_returns['GARCH-M'], label='GARCH-M', alpha=0.7)\n",
    "    plt.title(f'Cumulative Returns for {ticker}')\n",
    "    plt.xlabel('Date')\n",
    "    plt.ylabel('Cumulative Excess Return(%)')\n",
    "    plt.legend()\n",
    "    plt.tight_layout()\n",
    "    plt.show\n",
    "    plt.close()"
   ]
  },
  {
   "cell_type": "code",
   "execution_count": 50,
   "id": "e9489f56-1f34-4827-8dea-123c835e782c",
   "metadata": {},
   "outputs": [],
   "source": [
    "capm_results_df = pd.DataFrame(fitted_capm_values)\n",
    "capm_results_df.to_excel('capm_results.xlsx', index=False)\n",
    "garchm_results_df = pd.DataFrame(fitted_garchm_values)\n",
    "garchm_results_df.to_excel('garchm_results.xlsx', index=False)"
   ]
  },
  {
   "cell_type": "code",
   "execution_count": null,
   "id": "d1b0ab80-42bd-400a-82ca-166b21ecdd2e",
   "metadata": {},
   "outputs": [],
   "source": []
  }
 ],
 "metadata": {
  "kernelspec": {
   "display_name": "Python 3 (ipykernel)",
   "language": "python",
   "name": "python3"
  },
  "language_info": {
   "codemirror_mode": {
    "name": "ipython",
    "version": 3
   },
   "file_extension": ".py",
   "mimetype": "text/x-python",
   "name": "python",
   "nbconvert_exporter": "python",
   "pygments_lexer": "ipython3",
   "version": "3.12.4"
  }
 },
 "nbformat": 4,
 "nbformat_minor": 5
}
